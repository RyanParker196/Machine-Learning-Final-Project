{
 "cells": [
  {
   "cell_type": "code",
   "execution_count": 48,
   "id": "92a2af38",
   "metadata": {},
   "outputs": [],
   "source": [
    "#imports\n",
    "from pydub import AudioSegment\n",
    "from pydub.utils import make_chunks"
   ]
  },
  {
   "cell_type": "code",
   "execution_count": 49,
   "id": "e152c636",
   "metadata": {},
   "outputs": [],
   "source": [
    "myaudio = AudioSegment.from_file(\"roostereggsong5.wav\" , \"wav\") \n",
    "chunk_length_ms = 10000 # pydub calculates in millisec\n",
    "chunks = make_chunks(myaudio, chunk_length_ms) #Make chunks of one sec"
   ]
  },
  {
   "cell_type": "code",
   "execution_count": 50,
   "id": "bf8f9a62",
   "metadata": {},
   "outputs": [
    {
     "name": "stdout",
     "output_type": "stream",
     "text": [
      "exporting\n",
      "exporting\n"
     ]
    }
   ],
   "source": [
    "for i, chunk in enumerate(chunks):\n",
    "    chunk_name = \"roostereggsong4chunk{0}.wav\".format(i)\n",
    "    print(\"exporting\"), chunk_name\n",
    "    chunk.export(chunk_name, format=\"wav\")"
   ]
  }
 ],
 "metadata": {
  "kernelspec": {
   "display_name": "Python 3 (ipykernel)",
   "language": "python",
   "name": "python3"
  },
  "language_info": {
   "codemirror_mode": {
    "name": "ipython",
    "version": 3
   },
   "file_extension": ".py",
   "mimetype": "text/x-python",
   "name": "python",
   "nbconvert_exporter": "python",
   "pygments_lexer": "ipython3",
   "version": "3.9.7"
  }
 },
 "nbformat": 4,
 "nbformat_minor": 5
}
